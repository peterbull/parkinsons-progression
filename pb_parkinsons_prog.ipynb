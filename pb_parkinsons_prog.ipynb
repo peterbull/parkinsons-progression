{
 "cells": [
  {
   "cell_type": "code",
   "execution_count": 1,
   "metadata": {},
   "outputs": [],
   "source": [
    "#| default_exp app_v1"
   ]
  },
  {
   "attachments": {},
   "cell_type": "markdown",
   "metadata": {},
   "source": [
    "### Parkinsons Disease Progression Predictions"
   ]
  },
  {
   "attachments": {},
   "cell_type": "markdown",
   "metadata": {},
   "source": [
    "Competition [Link](https://www.kaggle.com/competitions/amp-parkinsons-disease-progression-prediction/overview)"
   ]
  },
  {
   "attachments": {},
   "cell_type": "markdown",
   "metadata": {},
   "source": [
    "Submissions are evaluated on SMAPE between forecasts and actual values. We define SMAPE = 0 when the actual and predicted values are both 0.\n",
    "\n",
    "For each patient visit where a protein/peptide sample was taken you will need to estimate both their UPDRS scores for that visit and predict their scores for any potential visits 6, 12, and 24 months later. Predictions for any visits that didn't ultimately take place are ignored.\n",
    "\n",
    "You must submit to this competition using the provided python time-series API, which ensures that models do not peek forward in time. To use the API, follow this template in Kaggle Notebooks:"
   ]
  },
  {
   "attachments": {},
   "cell_type": "markdown",
   "metadata": {},
   "source": [
    "```Python\n",
    "import amp_pd_peptide\n",
    "env = amp_pd_peptide.make_env()   # initialize the environment\n",
    "iter_test = env.iter_test()    # an iterator which loops over the test files\n",
    "for (test, test_peptides, test_proteins, sample_submission) in iter_test:\n",
    "    sample_prediction_df['rating'] = np.arange(len(sample_prediction))  # make your predictions here\n",
    "    env.predict(sample_prediction_df)   # register your predictions"
   ]
  },
  {
   "attachments": {},
   "cell_type": "markdown",
   "metadata": {},
   "source": [
    "Dataset Description\n",
    "\n",
    "The goal of this competition is to predict the course of Parkinson's disease (PD) using protein abundance data. The complete set of proteins involved in PD remains an open research question and any proteins that have predictive value are likely worth investigating further. The core of the dataset consists of protein abundance values derived from mass spectrometry readings of cerebrospinal fluid (CSF) samples gathered from several hundred patients. Each patient contributed several samples over the course of multiple years while they also took assessments of PD severity.\n",
    "\n",
    "This is a time-series code competition: you will receive test set data and make predictions with Kaggle's time-series API.\n",
    "\n",
    "Files\n",
    "-----\n",
    "\n",
    "**train\\_peptides.csv** Mass spectrometry data at the peptide level. Peptides are the component subunits of proteins.\n",
    "\n",
    "*   `visit_id` - ID code for the visit.\n",
    "*   `visit_month` - The month of the visit, relative to the first visit by the patient.\n",
    "*   `patient_id` - An ID code for the patient.\n",
    "*   `UniProt` - [The UniProt ID code](https://www.uniprot.org/id-mapping) for the associated protein. There are often several peptides per protein.\n",
    "*   `Peptide` - The sequence of amino acids included in the peptide. See [this table](https://en.wikipedia.org/wiki/Amino_acid#Physicochemical_properties_of_amino_acids) for the relevant codes. Some rare annotations may not be included in the table. The test set may include peptides not found in the train set.\n",
    "*   `PeptideAbundance` - The frequency of the amino acid in the sample.\n",
    "\n",
    "**train\\_proteins.csv** Protein expression frequencies aggregated from the peptide level data.\n",
    "\n",
    "*   `visit_id` - ID code for the visit.\n",
    "*   `visit_month` - The month of the visit, relative to the first visit by the patient.\n",
    "*   `patient_id` - An ID code for the patient.\n",
    "*   `UniProt` - [The UniProt ID code](https://www.uniprot.org/id-mapping) for the associated protein. There are often several peptides per protein. The test set may include proteins not found in the train set.\n",
    "*   `NPX` - Normalized protein expression. The frequency of the protein's occurrence in the sample. May not have a 1:1 relationship with the component peptides as some proteins contain repeated copies of a given peptide.\n",
    "\n",
    "**train\\_clinical\\_data.csv**\n",
    "\n",
    "*   `visit_id` - ID code for the visit.\n",
    "*   `visit_month` - The month of the visit, relative to the first visit by the patient.\n",
    "*   `patient_id` - An ID code for the patient.\n",
    "*   `updrs_[1-4]` - The patient's score for part N of the [Unified Parkinson's Disease Rating Scale](https://www.movementdisorders.org/MDS/MDS-Rating-Scales/MDS-Unified-Parkinsons-Disease-Rating-Scale-MDS-UPDRS.htm). Higher numbers indicate more severe symptoms. Each sub-section covers a distinct category of symptoms, such as mood and behavior for Part 1 and motor functions for Part 3.\n",
    "*   `upd23b_clinical_state_on_medication` - Whether or not the patient was taking medication such as Levodopa during the UPDRS assessment. Expected to mainly affect the scores for Part 3 (motor function). These medications wear off fairly quickly (on the order of one day) so it's common for patients to take the motor function exam twice in a single month, both with and without medication.\n",
    "\n",
    "**supplemental\\_clinical\\_data.csv** Clinical records without any associated CSF samples. This data is intended to provide additional context about the typical progression of Parkinsons. Uses the same columns as **train\\_clinical\\_data.csv**.\n",
    "\n",
    "**example\\_test\\_files/** Data intended to illustrate how the API functions. Includes the same columns delivered by the API (ie no updrs columns).\n",
    "\n",
    "**amp\\_pd\\_peptide/** Files that enable the API. Expect the API to deliver all of the data (less than 1,000 additional patients) in under five minutes and to reserve less than 0.5 GB of memory. A brief demonstration of what the API delivers [is available here](https://www.kaggle.com/code/sohier/basic-api-demo).\n",
    "\n",
    "**public\\_timeseries\\_testing\\_util.py** An optional file intended to make it easier to run custom offline API tests. See the script's docstring for details."
   ]
  },
  {
   "attachments": {},
   "cell_type": "markdown",
   "metadata": {},
   "source": [
    "#### Imports"
   ]
  },
  {
   "cell_type": "code",
   "execution_count": 2,
   "metadata": {},
   "outputs": [],
   "source": [
    "#| export\n",
    "from fastai.tabular.all import *\n",
    "\n",
    "import seaborn as sns\n",
    "\n",
    "pd.options.display.max_rows = 20\n",
    "pd.options.display.max_columns = 8"
   ]
  },
  {
   "cell_type": "code",
   "execution_count": 3,
   "metadata": {},
   "outputs": [],
   "source": [
    "#| export\n",
    "try: import fastkaggle\n",
    "except ModuleNotFoundError:\n",
    "    !pip install -Uq fastkaggle\n",
    "\n",
    "from fastkaggle import *"
   ]
  },
  {
   "attachments": {},
   "cell_type": "markdown",
   "metadata": {},
   "source": [
    "#### Downloading Datasets"
   ]
  },
  {
   "cell_type": "code",
   "execution_count": 4,
   "metadata": {},
   "outputs": [],
   "source": [
    "#| export\n",
    "comp = 'amp-parkinsons-disease-progression-prediction'\n",
    "path = setup_comp(comp, install='fastai')"
   ]
  },
  {
   "attachments": {},
   "cell_type": "markdown",
   "metadata": {},
   "source": [
    "#### Create Dataframes"
   ]
  },
  {
   "attachments": {},
   "cell_type": "markdown",
   "metadata": {},
   "source": [
    "Training Data"
   ]
  },
  {
   "cell_type": "code",
   "execution_count": 5,
   "metadata": {},
   "outputs": [],
   "source": [
    "#| export\n",
    "protein_train_df = pd.read_csv(path/\"train_proteins.csv\", low_memory=False)\n",
    "clinical_train_df = pd.read_csv(path/\"train_clinical_data.csv\", low_memory=False)\n",
    "peptide_train_df = pd.read_csv(path/\"train_peptides.csv\", low_memory=False)\n",
    "supplement_train_df = pd.read_csv(path/\"supplemental_clinical_data.csv\", low_memory=False)"
   ]
  },
  {
   "attachments": {},
   "cell_type": "markdown",
   "metadata": {},
   "source": [
    "Test Data"
   ]
  },
  {
   "cell_type": "code",
   "execution_count": 6,
   "metadata": {},
   "outputs": [],
   "source": [
    "#| export\n",
    "protein_test_df = pd.read_csv(path/\"example_test_files/test_proteins.csv\", low_memory=False)\n",
    "peptide_test_df = pd.read_csv(path/\"example_test_files/test_peptides.csv\", low_memory=False)\n",
    "updrs_test_df = pd.read_csv(path/\"example_test_files/test.csv\", low_memory=False)"
   ]
  },
  {
   "attachments": {},
   "cell_type": "markdown",
   "metadata": {},
   "source": [
    "#### TEMP - Replace NA with median"
   ]
  },
  {
   "cell_type": "code",
   "execution_count": 7,
   "metadata": {},
   "outputs": [
    {
     "data": {
      "text/plain": [
       "visit_id                                object\n",
       "patient_id                               int64\n",
       "visit_month                              int64\n",
       "updrs_1                                float64\n",
       "updrs_2                                float64\n",
       "updrs_3                                float64\n",
       "updrs_4                                float64\n",
       "upd23b_clinical_state_on_medication     object\n",
       "dtype: object"
      ]
     },
     "execution_count": 7,
     "metadata": {},
     "output_type": "execute_result"
    }
   ],
   "source": [
    "clinical_train_df.dtypes"
   ]
  },
  {
   "cell_type": "code",
   "execution_count": 8,
   "metadata": {},
   "outputs": [],
   "source": [
    "def get_df_name(df):\n",
    "    name =[x for x in globals() if globals()[x] is df][0]\n",
    "    return name"
   ]
  },
  {
   "cell_type": "code",
   "execution_count": 9,
   "metadata": {},
   "outputs": [],
   "source": [
    "def contains_nan(df):\n",
    "    return df.isnull().values.any()"
   ]
  },
  {
   "cell_type": "code",
   "execution_count": 10,
   "metadata": {},
   "outputs": [],
   "source": [
    "def replace_nan(df, col):\n",
    "    try:\n",
    "        df[col] = df[col].fillna(df[col].median())\n",
    "    except:\n",
    "        \n",
    "        print(f\"Manually Fill: {get_df_name(df)}, {col}\")\n",
    "    return df"
   ]
  },
  {
   "cell_type": "code",
   "execution_count": 11,
   "metadata": {},
   "outputs": [
    {
     "name": "stdout",
     "output_type": "stream",
     "text": [
      "Manually Fill: clinical_train_df, upd23b_clinical_state_on_medication\n",
      "Manually Fill: supplement_train_df, upd23b_clinical_state_on_medication\n"
     ]
    }
   ],
   "source": [
    "train_dfs = [protein_train_df, clinical_train_df, peptide_train_df, supplement_train_df]\n",
    "for x in train_dfs:\n",
    "    if contains_nan(x):\n",
    "        for y in x.columns:\n",
    "            replace_nan(x, y)"
   ]
  },
  {
   "cell_type": "code",
   "execution_count": 12,
   "metadata": {},
   "outputs": [
    {
     "data": {
      "text/plain": [
       "On     775\n",
       "Off    513\n",
       "Name: upd23b_clinical_state_on_medication, dtype: int64"
      ]
     },
     "execution_count": 12,
     "metadata": {},
     "output_type": "execute_result"
    }
   ],
   "source": [
    "clinical_train_df.upd23b_clinical_state_on_medication.value_counts()"
   ]
  },
  {
   "cell_type": "code",
   "execution_count": 13,
   "metadata": {},
   "outputs": [],
   "source": [
    "clinical_train_df['upd23b_clinical_state_on_medication'] = clinical_train_df['upd23b_clinical_state_on_medication'].replace('No', 0).astype(bool)\n",
    "clinical_train_df['upd23b_clinical_state_on_medication'] = clinical_train_df['upd23b_clinical_state_on_medication'].replace('Yes', 1).astype(bool)\n",
    "supplement_train_df['upd23b_clinical_state_on_medication'] = supplement_train_df['upd23b_clinical_state_on_medication'].replace('No', 0).astype(bool)\n",
    "supplement_train_df['upd23b_clinical_state_on_medication'] = supplement_train_df['upd23b_clinical_state_on_medication'].replace('Yes', 1).astype(bool)"
   ]
  },
  {
   "cell_type": "code",
   "execution_count": 14,
   "metadata": {},
   "outputs": [
    {
     "data": {
      "text/html": [
       "<div>\n",
       "<style scoped>\n",
       "    .dataframe tbody tr th:only-of-type {\n",
       "        vertical-align: middle;\n",
       "    }\n",
       "\n",
       "    .dataframe tbody tr th {\n",
       "        vertical-align: top;\n",
       "    }\n",
       "\n",
       "    .dataframe thead th {\n",
       "        text-align: right;\n",
       "    }\n",
       "</style>\n",
       "<table border=\"1\" class=\"dataframe\">\n",
       "  <thead>\n",
       "    <tr style=\"text-align: right;\">\n",
       "      <th></th>\n",
       "      <th>visit_id</th>\n",
       "      <th>patient_id</th>\n",
       "      <th>visit_month</th>\n",
       "      <th>updrs_1</th>\n",
       "      <th>updrs_2</th>\n",
       "      <th>updrs_3</th>\n",
       "      <th>updrs_4</th>\n",
       "      <th>upd23b_clinical_state_on_medication</th>\n",
       "    </tr>\n",
       "  </thead>\n",
       "  <tbody>\n",
       "    <tr>\n",
       "      <th>0</th>\n",
       "      <td>35_0</td>\n",
       "      <td>35</td>\n",
       "      <td>0</td>\n",
       "      <td>5.0</td>\n",
       "      <td>3.0</td>\n",
       "      <td>16.0</td>\n",
       "      <td>0.0</td>\n",
       "      <td>True</td>\n",
       "    </tr>\n",
       "    <tr>\n",
       "      <th>1</th>\n",
       "      <td>35_36</td>\n",
       "      <td>35</td>\n",
       "      <td>36</td>\n",
       "      <td>6.0</td>\n",
       "      <td>4.0</td>\n",
       "      <td>20.0</td>\n",
       "      <td>0.0</td>\n",
       "      <td>True</td>\n",
       "    </tr>\n",
       "    <tr>\n",
       "      <th>2</th>\n",
       "      <td>75_0</td>\n",
       "      <td>75</td>\n",
       "      <td>0</td>\n",
       "      <td>4.0</td>\n",
       "      <td>6.0</td>\n",
       "      <td>26.0</td>\n",
       "      <td>0.0</td>\n",
       "      <td>True</td>\n",
       "    </tr>\n",
       "    <tr>\n",
       "      <th>3</th>\n",
       "      <td>75_36</td>\n",
       "      <td>75</td>\n",
       "      <td>36</td>\n",
       "      <td>1.0</td>\n",
       "      <td>8.0</td>\n",
       "      <td>38.0</td>\n",
       "      <td>0.0</td>\n",
       "      <td>True</td>\n",
       "    </tr>\n",
       "    <tr>\n",
       "      <th>4</th>\n",
       "      <td>155_0</td>\n",
       "      <td>155</td>\n",
       "      <td>0</td>\n",
       "      <td>5.0</td>\n",
       "      <td>5.0</td>\n",
       "      <td>0.0</td>\n",
       "      <td>0.0</td>\n",
       "      <td>True</td>\n",
       "    </tr>\n",
       "  </tbody>\n",
       "</table>\n",
       "</div>"
      ],
      "text/plain": [
       "  visit_id  patient_id  visit_month  updrs_1  updrs_2  updrs_3  updrs_4  \\\n",
       "0     35_0          35            0      5.0      3.0     16.0      0.0   \n",
       "1    35_36          35           36      6.0      4.0     20.0      0.0   \n",
       "2     75_0          75            0      4.0      6.0     26.0      0.0   \n",
       "3    75_36          75           36      1.0      8.0     38.0      0.0   \n",
       "4    155_0         155            0      5.0      5.0      0.0      0.0   \n",
       "\n",
       "   upd23b_clinical_state_on_medication  \n",
       "0                                 True  \n",
       "1                                 True  \n",
       "2                                 True  \n",
       "3                                 True  \n",
       "4                                 True  "
      ]
     },
     "execution_count": 14,
     "metadata": {},
     "output_type": "execute_result"
    }
   ],
   "source": [
    "supplement_train_df.head()"
   ]
  },
  {
   "attachments": {},
   "cell_type": "markdown",
   "metadata": {},
   "source": [
    "#### Transform Dataframes"
   ]
  },
  {
   "attachments": {},
   "cell_type": "markdown",
   "metadata": {},
   "source": [
    "Merge Dataframes on common values"
   ]
  },
  {
   "cell_type": "code",
   "execution_count": 15,
   "metadata": {},
   "outputs": [],
   "source": [
    "#| export\n",
    "df_train = peptide_train_df.merge(protein_train_df, on=['patient_id', 'visit_id', 'visit_month', 'UniProt'], how='left')\n",
    "df_train = df_train.merge(clinical_train_df, on=['patient_id', 'visit_id', 'visit_month'], how='left')\n"
   ]
  },
  {
   "cell_type": "code",
   "execution_count": 16,
   "metadata": {},
   "outputs": [
    {
     "data": {
      "text/plain": [
       "1217190"
      ]
     },
     "execution_count": 16,
     "metadata": {},
     "output_type": "execute_result"
    }
   ],
   "source": [
    "len(peptide_train_df) + len(protein_train_df) + len(clinical_train_df)"
   ]
  },
  {
   "cell_type": "code",
   "execution_count": 17,
   "metadata": {},
   "outputs": [],
   "source": [
    "#| export\n",
    "df_train = pd.concat([protein_train_df, clinical_train_df, peptide_train_df], axis=1)"
   ]
  },
  {
   "cell_type": "code",
   "execution_count": 18,
   "metadata": {},
   "outputs": [
    {
     "data": {
      "text/html": [
       "<div>\n",
       "<style scoped>\n",
       "    .dataframe tbody tr th:only-of-type {\n",
       "        vertical-align: middle;\n",
       "    }\n",
       "\n",
       "    .dataframe tbody tr th {\n",
       "        vertical-align: top;\n",
       "    }\n",
       "\n",
       "    .dataframe thead th {\n",
       "        text-align: right;\n",
       "    }\n",
       "</style>\n",
       "<table border=\"1\" class=\"dataframe\">\n",
       "  <thead>\n",
       "    <tr style=\"text-align: right;\">\n",
       "      <th></th>\n",
       "      <th>visit_id</th>\n",
       "      <th>visit_month</th>\n",
       "      <th>patient_id</th>\n",
       "      <th>UniProt</th>\n",
       "      <th>...</th>\n",
       "      <th>patient_id</th>\n",
       "      <th>UniProt</th>\n",
       "      <th>Peptide</th>\n",
       "      <th>PeptideAbundance</th>\n",
       "    </tr>\n",
       "  </thead>\n",
       "  <tbody>\n",
       "    <tr>\n",
       "      <th>0</th>\n",
       "      <td>55_0</td>\n",
       "      <td>0.0</td>\n",
       "      <td>55.0</td>\n",
       "      <td>O00391</td>\n",
       "      <td>...</td>\n",
       "      <td>55</td>\n",
       "      <td>O00391</td>\n",
       "      <td>NEQEQPLGQWHLS</td>\n",
       "      <td>11254.3</td>\n",
       "    </tr>\n",
       "    <tr>\n",
       "      <th>1</th>\n",
       "      <td>55_0</td>\n",
       "      <td>0.0</td>\n",
       "      <td>55.0</td>\n",
       "      <td>O00533</td>\n",
       "      <td>...</td>\n",
       "      <td>55</td>\n",
       "      <td>O00533</td>\n",
       "      <td>GNPEPTFSWTK</td>\n",
       "      <td>102060.0</td>\n",
       "    </tr>\n",
       "    <tr>\n",
       "      <th>2</th>\n",
       "      <td>55_0</td>\n",
       "      <td>0.0</td>\n",
       "      <td>55.0</td>\n",
       "      <td>O00584</td>\n",
       "      <td>...</td>\n",
       "      <td>55</td>\n",
       "      <td>O00533</td>\n",
       "      <td>IEIPSSVQQVPTIIK</td>\n",
       "      <td>174185.0</td>\n",
       "    </tr>\n",
       "    <tr>\n",
       "      <th>3</th>\n",
       "      <td>55_0</td>\n",
       "      <td>0.0</td>\n",
       "      <td>55.0</td>\n",
       "      <td>O14498</td>\n",
       "      <td>...</td>\n",
       "      <td>55</td>\n",
       "      <td>O00533</td>\n",
       "      <td>KPQSAVYSTGSNGILLC(UniMod_4)EAEGEPQPTIK</td>\n",
       "      <td>27278.9</td>\n",
       "    </tr>\n",
       "    <tr>\n",
       "      <th>4</th>\n",
       "      <td>55_0</td>\n",
       "      <td>0.0</td>\n",
       "      <td>55.0</td>\n",
       "      <td>O14773</td>\n",
       "      <td>...</td>\n",
       "      <td>55</td>\n",
       "      <td>O00533</td>\n",
       "      <td>SMEQNGPGLEYR</td>\n",
       "      <td>30838.7</td>\n",
       "    </tr>\n",
       "  </tbody>\n",
       "</table>\n",
       "<p>5 rows × 19 columns</p>\n",
       "</div>"
      ],
      "text/plain": [
       "  visit_id  visit_month  patient_id UniProt  ...  patient_id UniProt  \\\n",
       "0     55_0          0.0        55.0  O00391  ...          55  O00391   \n",
       "1     55_0          0.0        55.0  O00533  ...          55  O00533   \n",
       "2     55_0          0.0        55.0  O00584  ...          55  O00533   \n",
       "3     55_0          0.0        55.0  O14498  ...          55  O00533   \n",
       "4     55_0          0.0        55.0  O14773  ...          55  O00533   \n",
       "\n",
       "                                  Peptide  PeptideAbundance  \n",
       "0                           NEQEQPLGQWHLS           11254.3  \n",
       "1                             GNPEPTFSWTK          102060.0  \n",
       "2                         IEIPSSVQQVPTIIK          174185.0  \n",
       "3  KPQSAVYSTGSNGILLC(UniMod_4)EAEGEPQPTIK           27278.9  \n",
       "4                            SMEQNGPGLEYR           30838.7  \n",
       "\n",
       "[5 rows x 19 columns]"
      ]
     },
     "execution_count": 18,
     "metadata": {},
     "output_type": "execute_result"
    }
   ],
   "source": [
    "df_train.head()"
   ]
  },
  {
   "cell_type": "code",
   "execution_count": null,
   "metadata": {},
   "outputs": [],
   "source": []
  },
  {
   "cell_type": "code",
   "execution_count": 19,
   "metadata": {},
   "outputs": [
    {
     "data": {
      "text/plain": [
       "(981834, 19)"
      ]
     },
     "execution_count": 19,
     "metadata": {},
     "output_type": "execute_result"
    }
   ],
   "source": [
    "df_train.shape"
   ]
  },
  {
   "cell_type": "code",
   "execution_count": 20,
   "metadata": {},
   "outputs": [],
   "source": [
    "df_test = peptide_test_df.merge(protein_test_df, on=['patient_id', 'visit_id', 'visit_month'], how='left')"
   ]
  },
  {
   "cell_type": "code",
   "execution_count": 21,
   "metadata": {},
   "outputs": [],
   "source": [
    "df_test = df_test.merge(updrs_test_df, on=['patient_id', 'visit_id', 'visit_month'], how='left')"
   ]
  },
  {
   "cell_type": "code",
   "execution_count": 22,
   "metadata": {},
   "outputs": [
    {
     "data": {
      "text/html": [
       "<div>\n",
       "<style scoped>\n",
       "    .dataframe tbody tr th:only-of-type {\n",
       "        vertical-align: middle;\n",
       "    }\n",
       "\n",
       "    .dataframe tbody tr th {\n",
       "        vertical-align: top;\n",
       "    }\n",
       "\n",
       "    .dataframe thead th {\n",
       "        text-align: right;\n",
       "    }\n",
       "</style>\n",
       "<table border=\"1\" class=\"dataframe\">\n",
       "  <thead>\n",
       "    <tr style=\"text-align: right;\">\n",
       "      <th></th>\n",
       "      <th>visit_id</th>\n",
       "      <th>visit_month</th>\n",
       "      <th>patient_id</th>\n",
       "      <th>UniProt_x</th>\n",
       "      <th>...</th>\n",
       "      <th>group_key_y</th>\n",
       "      <th>updrs_test</th>\n",
       "      <th>row_id</th>\n",
       "      <th>group_key</th>\n",
       "    </tr>\n",
       "  </thead>\n",
       "  <tbody>\n",
       "    <tr>\n",
       "      <th>0</th>\n",
       "      <td>50423_0</td>\n",
       "      <td>0</td>\n",
       "      <td>50423</td>\n",
       "      <td>O00391</td>\n",
       "      <td>...</td>\n",
       "      <td>0</td>\n",
       "      <td>updrs_1</td>\n",
       "      <td>50423_0_updrs_1</td>\n",
       "      <td>0</td>\n",
       "    </tr>\n",
       "    <tr>\n",
       "      <th>1</th>\n",
       "      <td>50423_0</td>\n",
       "      <td>0</td>\n",
       "      <td>50423</td>\n",
       "      <td>O00391</td>\n",
       "      <td>...</td>\n",
       "      <td>0</td>\n",
       "      <td>updrs_2</td>\n",
       "      <td>50423_0_updrs_2</td>\n",
       "      <td>0</td>\n",
       "    </tr>\n",
       "    <tr>\n",
       "      <th>2</th>\n",
       "      <td>50423_0</td>\n",
       "      <td>0</td>\n",
       "      <td>50423</td>\n",
       "      <td>O00391</td>\n",
       "      <td>...</td>\n",
       "      <td>0</td>\n",
       "      <td>updrs_3</td>\n",
       "      <td>50423_0_updrs_3</td>\n",
       "      <td>0</td>\n",
       "    </tr>\n",
       "    <tr>\n",
       "      <th>3</th>\n",
       "      <td>50423_0</td>\n",
       "      <td>0</td>\n",
       "      <td>50423</td>\n",
       "      <td>O00391</td>\n",
       "      <td>...</td>\n",
       "      <td>0</td>\n",
       "      <td>updrs_4</td>\n",
       "      <td>50423_0_updrs_4</td>\n",
       "      <td>0</td>\n",
       "    </tr>\n",
       "    <tr>\n",
       "      <th>4</th>\n",
       "      <td>50423_0</td>\n",
       "      <td>0</td>\n",
       "      <td>50423</td>\n",
       "      <td>O00391</td>\n",
       "      <td>...</td>\n",
       "      <td>0</td>\n",
       "      <td>updrs_1</td>\n",
       "      <td>50423_0_updrs_1</td>\n",
       "      <td>0</td>\n",
       "    </tr>\n",
       "    <tr>\n",
       "      <th>...</th>\n",
       "      <td>...</td>\n",
       "      <td>...</td>\n",
       "      <td>...</td>\n",
       "      <td>...</td>\n",
       "      <td>...</td>\n",
       "      <td>...</td>\n",
       "      <td>...</td>\n",
       "      <td>...</td>\n",
       "      <td>...</td>\n",
       "    </tr>\n",
       "    <tr>\n",
       "      <th>1863607</th>\n",
       "      <td>3342_6</td>\n",
       "      <td>6</td>\n",
       "      <td>3342</td>\n",
       "      <td>Q9Y6R7</td>\n",
       "      <td>...</td>\n",
       "      <td>6</td>\n",
       "      <td>updrs_4</td>\n",
       "      <td>3342_6_updrs_4</td>\n",
       "      <td>6</td>\n",
       "    </tr>\n",
       "    <tr>\n",
       "      <th>1863608</th>\n",
       "      <td>3342_6</td>\n",
       "      <td>6</td>\n",
       "      <td>3342</td>\n",
       "      <td>Q9Y6R7</td>\n",
       "      <td>...</td>\n",
       "      <td>6</td>\n",
       "      <td>updrs_1</td>\n",
       "      <td>3342_6_updrs_1</td>\n",
       "      <td>6</td>\n",
       "    </tr>\n",
       "    <tr>\n",
       "      <th>1863609</th>\n",
       "      <td>3342_6</td>\n",
       "      <td>6</td>\n",
       "      <td>3342</td>\n",
       "      <td>Q9Y6R7</td>\n",
       "      <td>...</td>\n",
       "      <td>6</td>\n",
       "      <td>updrs_2</td>\n",
       "      <td>3342_6_updrs_2</td>\n",
       "      <td>6</td>\n",
       "    </tr>\n",
       "    <tr>\n",
       "      <th>1863610</th>\n",
       "      <td>3342_6</td>\n",
       "      <td>6</td>\n",
       "      <td>3342</td>\n",
       "      <td>Q9Y6R7</td>\n",
       "      <td>...</td>\n",
       "      <td>6</td>\n",
       "      <td>updrs_3</td>\n",
       "      <td>3342_6_updrs_3</td>\n",
       "      <td>6</td>\n",
       "    </tr>\n",
       "    <tr>\n",
       "      <th>1863611</th>\n",
       "      <td>3342_6</td>\n",
       "      <td>6</td>\n",
       "      <td>3342</td>\n",
       "      <td>Q9Y6R7</td>\n",
       "      <td>...</td>\n",
       "      <td>6</td>\n",
       "      <td>updrs_4</td>\n",
       "      <td>3342_6_updrs_4</td>\n",
       "      <td>6</td>\n",
       "    </tr>\n",
       "  </tbody>\n",
       "</table>\n",
       "<p>1863612 rows × 13 columns</p>\n",
       "</div>"
      ],
      "text/plain": [
       "        visit_id  visit_month  patient_id UniProt_x  ... group_key_y  \\\n",
       "0        50423_0            0       50423    O00391  ...           0   \n",
       "1        50423_0            0       50423    O00391  ...           0   \n",
       "2        50423_0            0       50423    O00391  ...           0   \n",
       "3        50423_0            0       50423    O00391  ...           0   \n",
       "4        50423_0            0       50423    O00391  ...           0   \n",
       "...          ...          ...         ...       ...  ...         ...   \n",
       "1863607   3342_6            6        3342    Q9Y6R7  ...           6   \n",
       "1863608   3342_6            6        3342    Q9Y6R7  ...           6   \n",
       "1863609   3342_6            6        3342    Q9Y6R7  ...           6   \n",
       "1863610   3342_6            6        3342    Q9Y6R7  ...           6   \n",
       "1863611   3342_6            6        3342    Q9Y6R7  ...           6   \n",
       "\n",
       "         updrs_test           row_id group_key  \n",
       "0           updrs_1  50423_0_updrs_1         0  \n",
       "1           updrs_2  50423_0_updrs_2         0  \n",
       "2           updrs_3  50423_0_updrs_3         0  \n",
       "3           updrs_4  50423_0_updrs_4         0  \n",
       "4           updrs_1  50423_0_updrs_1         0  \n",
       "...             ...              ...       ...  \n",
       "1863607     updrs_4   3342_6_updrs_4         6  \n",
       "1863608     updrs_1   3342_6_updrs_1         6  \n",
       "1863609     updrs_2   3342_6_updrs_2         6  \n",
       "1863610     updrs_3   3342_6_updrs_3         6  \n",
       "1863611     updrs_4   3342_6_updrs_4         6  \n",
       "\n",
       "[1863612 rows x 13 columns]"
      ]
     },
     "execution_count": 22,
     "metadata": {},
     "output_type": "execute_result"
    }
   ],
   "source": [
    "df_test"
   ]
  },
  {
   "cell_type": "code",
   "execution_count": 23,
   "metadata": {},
   "outputs": [
    {
     "data": {
      "text/plain": [
       "Index(['visit_id', 'visit_month', 'patient_id', 'UniProt_x', 'Peptide',\n",
       "       'PeptideAbundance', 'group_key_x', 'UniProt_y', 'NPX', 'group_key_y',\n",
       "       'updrs_test', 'row_id', 'group_key'],\n",
       "      dtype='object')"
      ]
     },
     "execution_count": 23,
     "metadata": {},
     "output_type": "execute_result"
    }
   ],
   "source": [
    "df_test.columns"
   ]
  },
  {
   "cell_type": "code",
   "execution_count": 24,
   "metadata": {},
   "outputs": [
    {
     "data": {
      "text/html": [
       "<div>\n",
       "<style scoped>\n",
       "    .dataframe tbody tr th:only-of-type {\n",
       "        vertical-align: middle;\n",
       "    }\n",
       "\n",
       "    .dataframe tbody tr th {\n",
       "        vertical-align: top;\n",
       "    }\n",
       "\n",
       "    .dataframe thead th {\n",
       "        text-align: right;\n",
       "    }\n",
       "</style>\n",
       "<table border=\"1\" class=\"dataframe\">\n",
       "  <thead>\n",
       "    <tr style=\"text-align: right;\">\n",
       "      <th></th>\n",
       "      <th>visit_id</th>\n",
       "      <th>visit_month</th>\n",
       "      <th>patient_id</th>\n",
       "      <th>UniProt_x</th>\n",
       "      <th>...</th>\n",
       "      <th>group_key_y</th>\n",
       "      <th>updrs_test</th>\n",
       "      <th>row_id</th>\n",
       "      <th>group_key</th>\n",
       "    </tr>\n",
       "  </thead>\n",
       "  <tbody>\n",
       "    <tr>\n",
       "      <th>1863611</th>\n",
       "      <td>3342_6</td>\n",
       "      <td>6</td>\n",
       "      <td>3342</td>\n",
       "      <td>Q9Y6R7</td>\n",
       "      <td>...</td>\n",
       "      <td>6</td>\n",
       "      <td>updrs_4</td>\n",
       "      <td>3342_6_updrs_4</td>\n",
       "      <td>6</td>\n",
       "    </tr>\n",
       "  </tbody>\n",
       "</table>\n",
       "<p>1 rows × 13 columns</p>\n",
       "</div>"
      ],
      "text/plain": [
       "        visit_id  visit_month  patient_id UniProt_x  ... group_key_y  \\\n",
       "1863611   3342_6            6        3342    Q9Y6R7  ...           6   \n",
       "\n",
       "         updrs_test          row_id group_key  \n",
       "1863611     updrs_4  3342_6_updrs_4         6  \n",
       "\n",
       "[1 rows x 13 columns]"
      ]
     },
     "execution_count": 24,
     "metadata": {},
     "output_type": "execute_result"
    }
   ],
   "source": [
    "df_test[-1:]"
   ]
  },
  {
   "cell_type": "code",
   "execution_count": 25,
   "metadata": {},
   "outputs": [
    {
     "data": {
      "text/plain": [
       "(1863612, 13)"
      ]
     },
     "execution_count": 25,
     "metadata": {},
     "output_type": "execute_result"
    }
   ],
   "source": [
    "df_test.shape"
   ]
  },
  {
   "attachments": {},
   "cell_type": "markdown",
   "metadata": {},
   "source": [
    "Because processes later will not fill the NaN values for our dependent variable, filling with median to get baseline model running"
   ]
  },
  {
   "cell_type": "code",
   "execution_count": 26,
   "metadata": {},
   "outputs": [],
   "source": [
    "#| export\n",
    "median_targs = df_train[['updrs_1', 'updrs_2', 'updrs_3', 'updrs_4']].median()"
   ]
  },
  {
   "cell_type": "code",
   "execution_count": 27,
   "metadata": {},
   "outputs": [],
   "source": [
    "#| export\n",
    "df_train[['updrs_1', 'updrs_2', 'updrs_3', 'updrs_4']] = df_train[['updrs_1', 'updrs_2', 'updrs_3', 'updrs_4']].fillna(median_targs)"
   ]
  },
  {
   "attachments": {},
   "cell_type": "markdown",
   "metadata": {},
   "source": [
    "Specify Targets"
   ]
  },
  {
   "cell_type": "code",
   "execution_count": 28,
   "metadata": {},
   "outputs": [],
   "source": [
    "#| export\n",
    "dep_var = ['updrs_1', 'updrs_2', 'updrs_3', 'updrs_4']"
   ]
  },
  {
   "attachments": {},
   "cell_type": "markdown",
   "metadata": {},
   "source": [
    "Add processes to clean and normalize data, split continuous and categorical variables, and create random training and validation sets with an 80% train, 20% validation split"
   ]
  },
  {
   "cell_type": "code",
   "execution_count": 34,
   "metadata": {},
   "outputs": [
    {
     "data": {
      "text/plain": [
       "visit_id                                object\n",
       "visit_month                            float64\n",
       "patient_id                             float64\n",
       "UniProt                                 object\n",
       "NPX                                    float64\n",
       "visit_id                                object\n",
       "patient_id                             float64\n",
       "visit_month                            float64\n",
       "updrs_1                                float64\n",
       "updrs_2                                float64\n",
       "updrs_3                                float64\n",
       "updrs_4                                float64\n",
       "upd23b_clinical_state_on_medication     object\n",
       "visit_id                                object\n",
       "visit_month                              int64\n",
       "patient_id                               int64\n",
       "UniProt                                 object\n",
       "Peptide                                 object\n",
       "PeptideAbundance                       float64\n",
       "dtype: object"
      ]
     },
     "execution_count": 34,
     "metadata": {},
     "output_type": "execute_result"
    }
   ],
   "source": [
    "df_train.dtypes"
   ]
  },
  {
   "cell_type": "code",
   "execution_count": 35,
   "metadata": {},
   "outputs": [],
   "source": [
    "#| export\n",
    "procs = [Categorify, FillMissing, Normalize]\n"
   ]
  },
  {
   "cell_type": "code",
   "execution_count": 36,
   "metadata": {},
   "outputs": [
    {
     "ename": "AttributeError",
     "evalue": "'DataFrame' object has no attribute 'dtype'",
     "output_type": "error",
     "traceback": [
      "\u001b[0;31m---------------------------------------------------------------------------\u001b[0m",
      "\u001b[0;31mAttributeError\u001b[0m                            Traceback (most recent call last)",
      "Cell \u001b[0;32mIn[36], line 1\u001b[0m\n\u001b[0;32m----> 1\u001b[0m cont, cat \u001b[39m=\u001b[39m cont_cat_split(df_train, dep_var\u001b[39m=\u001b[39;49mdep_var, max_card\u001b[39m=\u001b[39;49m\u001b[39m1\u001b[39;49m)\n",
      "File \u001b[0;32m~/mambaforge/lib/python3.10/site-packages/fastai/tabular/core.py:89\u001b[0m, in \u001b[0;36mcont_cat_split\u001b[0;34m(df, max_card, dep_var)\u001b[0m\n\u001b[1;32m     87\u001b[0m \u001b[39mfor\u001b[39;00m label \u001b[39min\u001b[39;00m df:\n\u001b[1;32m     88\u001b[0m     \u001b[39mif\u001b[39;00m label \u001b[39min\u001b[39;00m L(dep_var): \u001b[39mcontinue\u001b[39;00m\n\u001b[0;32m---> 89\u001b[0m     \u001b[39mif\u001b[39;00m ((pd\u001b[39m.\u001b[39mapi\u001b[39m.\u001b[39mtypes\u001b[39m.\u001b[39mis_integer_dtype(df[label]\u001b[39m.\u001b[39;49mdtype) \u001b[39mand\u001b[39;00m\n\u001b[1;32m     90\u001b[0m         df[label]\u001b[39m.\u001b[39munique()\u001b[39m.\u001b[39mshape[\u001b[39m0\u001b[39m] \u001b[39m>\u001b[39m max_card) \u001b[39mor\u001b[39;00m\n\u001b[1;32m     91\u001b[0m         pd\u001b[39m.\u001b[39mapi\u001b[39m.\u001b[39mtypes\u001b[39m.\u001b[39mis_float_dtype(df[label]\u001b[39m.\u001b[39mdtype)):\n\u001b[1;32m     92\u001b[0m         cont_names\u001b[39m.\u001b[39mappend(label)\n\u001b[1;32m     93\u001b[0m     \u001b[39melse\u001b[39;00m: cat_names\u001b[39m.\u001b[39mappend(label)\n",
      "File \u001b[0;32m~/mambaforge/lib/python3.10/site-packages/pandas/core/generic.py:5902\u001b[0m, in \u001b[0;36mNDFrame.__getattr__\u001b[0;34m(self, name)\u001b[0m\n\u001b[1;32m   5895\u001b[0m \u001b[39mif\u001b[39;00m (\n\u001b[1;32m   5896\u001b[0m     name \u001b[39mnot\u001b[39;00m \u001b[39min\u001b[39;00m \u001b[39mself\u001b[39m\u001b[39m.\u001b[39m_internal_names_set\n\u001b[1;32m   5897\u001b[0m     \u001b[39mand\u001b[39;00m name \u001b[39mnot\u001b[39;00m \u001b[39min\u001b[39;00m \u001b[39mself\u001b[39m\u001b[39m.\u001b[39m_metadata\n\u001b[1;32m   5898\u001b[0m     \u001b[39mand\u001b[39;00m name \u001b[39mnot\u001b[39;00m \u001b[39min\u001b[39;00m \u001b[39mself\u001b[39m\u001b[39m.\u001b[39m_accessors\n\u001b[1;32m   5899\u001b[0m     \u001b[39mand\u001b[39;00m \u001b[39mself\u001b[39m\u001b[39m.\u001b[39m_info_axis\u001b[39m.\u001b[39m_can_hold_identifiers_and_holds_name(name)\n\u001b[1;32m   5900\u001b[0m ):\n\u001b[1;32m   5901\u001b[0m     \u001b[39mreturn\u001b[39;00m \u001b[39mself\u001b[39m[name]\n\u001b[0;32m-> 5902\u001b[0m \u001b[39mreturn\u001b[39;00m \u001b[39mobject\u001b[39;49m\u001b[39m.\u001b[39;49m\u001b[39m__getattribute__\u001b[39;49m(\u001b[39mself\u001b[39;49m, name)\n",
      "\u001b[0;31mAttributeError\u001b[0m: 'DataFrame' object has no attribute 'dtype'"
     ]
    }
   ],
   "source": [
    "cont, cat = cont_cat_split(df_train, dep_var=dep_var, max_card=1)\n"
   ]
  },
  {
   "cell_type": "code",
   "execution_count": null,
   "metadata": {},
   "outputs": [],
   "source": [
    "splits = RandomSplitter(valid_pct=0.2)(range_of(df_train))"
   ]
  },
  {
   "attachments": {},
   "cell_type": "markdown",
   "metadata": {},
   "source": [
    "Create `TabularPandas` object to prepare DataFrames to be passed to `Dataloaders`"
   ]
  },
  {
   "cell_type": "code",
   "execution_count": 30,
   "metadata": {},
   "outputs": [
    {
     "ename": "NameError",
     "evalue": "name 'cat' is not defined",
     "output_type": "error",
     "traceback": [
      "\u001b[0;31m---------------------------------------------------------------------------\u001b[0m",
      "\u001b[0;31mNameError\u001b[0m                                 Traceback (most recent call last)",
      "Cell \u001b[0;32mIn[30], line 2\u001b[0m\n\u001b[1;32m      1\u001b[0m \u001b[39m#| export\u001b[39;00m\n\u001b[0;32m----> 2\u001b[0m to \u001b[39m=\u001b[39m TabularPandas(df_train, procs, cat, cont, y_names\u001b[39m=\u001b[39mdep_var, splits\u001b[39m=\u001b[39msplits)\n",
      "\u001b[0;31mNameError\u001b[0m: name 'cat' is not defined"
     ]
    }
   ],
   "source": [
    "#| export\n",
    "to = TabularPandas(df_train, procs, cat, cont, y_names=dep_var, splits=splits)"
   ]
  },
  {
   "attachments": {},
   "cell_type": "markdown",
   "metadata": {},
   "source": [
    "This contest is scored on a SMAPE metric, so creating a class to calulate SMAPE score for multi-target models"
   ]
  },
  {
   "cell_type": "code",
   "execution_count": null,
   "metadata": {},
   "outputs": [],
   "source": [
    "#| export\n",
    "class MultiTargetSMAPE(Metric):\n",
    "    def __init__(self):\n",
    "        super().__init__()\n",
    "    \n",
    "    def reset(self):\n",
    "        self.total = 0.\n",
    "        self.count = 0\n",
    "        \n",
    "    def accumulate(self, learn):\n",
    "        pred,targ = learn.pred, learn.y\n",
    "        denom = torch.abs(pred) + torch.abs(targ)\n",
    "        non_zero_denom = denom != 0\n",
    "        num = torch.abs(pred - targ)\n",
    "        smape = torch.zeros_like(num)\n",
    "        smape[non_zero_denom] = num[non_zero_denom] / denom[non_zero_denom]\n",
    "        self.total += smape.sum(dim=0)\n",
    "        self.count += learn.y.size(0)\n",
    "    \n",
    "    @property\n",
    "    def value(self):\n",
    "        return (self.total / self.count).mean().item() * 100  # SMAPE in percentage\n",
    "    \n",
    "    @property\n",
    "    def name(self):\n",
    "        return 'multi_target_smape'\n"
   ]
  },
  {
   "attachments": {},
   "cell_type": "markdown",
   "metadata": {},
   "source": [
    "Load data to dataloaders"
   ]
  },
  {
   "cell_type": "code",
   "execution_count": null,
   "metadata": {},
   "outputs": [],
   "source": [
    "#| export\n",
    "dls = to.dataloaders(bs=256)"
   ]
  },
  {
   "attachments": {},
   "cell_type": "markdown",
   "metadata": {},
   "source": [
    "Create `learner` model"
   ]
  },
  {
   "cell_type": "code",
   "execution_count": null,
   "metadata": {},
   "outputs": [],
   "source": [
    "#| export\n",
    "learn = tabular_learner(dls, layers=[200,100], metrics=[MultiTargetSMAPE()], n_out=4, y_range=(0, 80), loss_func=mse)"
   ]
  },
  {
   "attachments": {},
   "cell_type": "markdown",
   "metadata": {},
   "source": [
    "Find optimal learning rate"
   ]
  },
  {
   "cell_type": "code",
   "execution_count": null,
   "metadata": {},
   "outputs": [],
   "source": [
    "learn.lr_find()"
   ]
  },
  {
   "attachments": {},
   "cell_type": "markdown",
   "metadata": {},
   "source": [
    "Train Model"
   ]
  },
  {
   "cell_type": "code",
   "execution_count": null,
   "metadata": {},
   "outputs": [],
   "source": [
    "#| export\n",
    "learn.fit_one_cycle(10, 1e-3)"
   ]
  },
  {
   "attachments": {},
   "cell_type": "markdown",
   "metadata": {},
   "source": [
    "It's continuing to improve with each epoch so far, but will need to check against test sets for overfitting to verify that these are actual improvements"
   ]
  },
  {
   "cell_type": "code",
   "execution_count": null,
   "metadata": {},
   "outputs": [],
   "source": [
    "#| export\n",
    "xs, ys = to.train.xs, to.train.ys\n",
    "valid_xs, valid_ys = to.valid.xs, to.valid.ys"
   ]
  },
  {
   "cell_type": "code",
   "execution_count": null,
   "metadata": {},
   "outputs": [],
   "source": [
    "updrs_test_df.head()"
   ]
  },
  {
   "cell_type": "code",
   "execution_count": null,
   "metadata": {},
   "outputs": [],
   "source": [
    "test_dl = learn.dls.test_dl(updrs_test_df)"
   ]
  },
  {
   "cell_type": "code",
   "execution_count": null,
   "metadata": {},
   "outputs": [],
   "source": [
    "import nbdev\n",
    "nbdev.export.nb_export('pb_parkinsons_prog.ipynb', 'app_v1')\n",
    "print(\"export successful\")"
   ]
  }
 ],
 "metadata": {
  "kernelspec": {
   "display_name": "base",
   "language": "python",
   "name": "python3"
  },
  "language_info": {
   "codemirror_mode": {
    "name": "ipython",
    "version": 3
   },
   "file_extension": ".py",
   "mimetype": "text/x-python",
   "name": "python",
   "nbconvert_exporter": "python",
   "pygments_lexer": "ipython3",
   "version": "3.10.6"
  },
  "orig_nbformat": 4,
  "vscode": {
   "interpreter": {
    "hash": "f4702a165a03ade35e40e0221d250a3a44a346cfc16a49ce6d051d1595069b46"
   }
  }
 },
 "nbformat": 4,
 "nbformat_minor": 2
}
